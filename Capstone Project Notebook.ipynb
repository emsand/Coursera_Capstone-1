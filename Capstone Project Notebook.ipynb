{
    "cells": [
        {
            "cell_type": "markdown", 
            "metadata": {
                "collapsed": true
            }, 
            "source": "# Capstone Project"
        }, 
        {
            "cell_type": "markdown", 
            "metadata": {}, 
            "source": "This notebook will be used for **Capstone Project** on *Coursera*"
        }, 
        {
            "cell_type": "code", 
            "metadata": {}, 
            "outputs": [], 
            "source": "import numpy as np \nimport pandas as pd", 
            "execution_count": 1
        }, 
        {
            "cell_type": "code", 
            "metadata": {}, 
            "outputs": [
                {
                    "text": "Hello Capstone Project Course!\n", 
                    "output_type": "stream", 
                    "name": "stdout"
                }
            ], 
            "source": "print('Hello Capstone Project Course!')", 
            "execution_count": 2
        }, 
        {
            "cell_type": "code", 
            "metadata": {}, 
            "outputs": [], 
            "source": "", 
            "execution_count": null
        }
    ], 
    "nbformat": 4, 
    "metadata": {
        "kernelspec": {
            "display_name": "Python 3.5", 
            "name": "python3", 
            "language": "python"
        }, 
        "language_info": {
            "version": "3.5.5", 
            "codemirror_mode": {
                "version": 3, 
                "name": "ipython"
            }, 
            "mimetype": "text/x-python", 
            "nbconvert_exporter": "python", 
            "file_extension": ".py", 
            "name": "python", 
            "pygments_lexer": "ipython3"
        }
    }, 
    "nbformat_minor": 1
}